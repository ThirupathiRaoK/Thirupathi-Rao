{
  "nbformat": 4,
  "nbformat_minor": 0,
  "metadata": {
    "colab": {
      "name": "05/12/19",
      "provenance": [],
      "include_colab_link": true
    },
    "kernelspec": {
      "name": "python3",
      "display_name": "Python 3"
    }
  },
  "cells": [
    {
      "cell_type": "markdown",
      "metadata": {
        "id": "view-in-github",
        "colab_type": "text"
      },
      "source": [
        "<a href=\"https://colab.research.google.com/github/ThirupathiRaoK/crtprogram/blob/master/05_12_19.ipynb\" target=\"_parent\"><img src=\"https://colab.research.google.com/assets/colab-badge.svg\" alt=\"Open In Colab\"/></a>"
      ]
    },
    {
      "cell_type": "code",
      "metadata": {
        "id": "KICQAov_LbbD",
        "colab_type": "code",
        "colab": {
          "base_uri": "https://localhost:8080/",
          "height": 85
        },
        "outputId": "7785a860-80ba-415a-a5d4-1646b4e8d370"
      },
      "source": [
        "##basic list functions\n",
        "li=[1,9,16,25,5]\n",
        "print(max(li))\n",
        "print(min(li))\n",
        "print(sum(li))\n",
        "print(sum(li)//len(li))"
      ],
      "execution_count": 1,
      "outputs": [
        {
          "output_type": "stream",
          "text": [
            "25\n",
            "1\n",
            "56\n",
            "11\n"
          ],
          "name": "stdout"
        }
      ]
    },
    {
      "cell_type": "code",
      "metadata": {
        "id": "9uMc5UlXOQy3",
        "colab_type": "code",
        "colab": {
          "base_uri": "https://localhost:8080/",
          "height": 34
        },
        "outputId": "f8489f4a-e1ef-4345-b6c9-c01e77154a69"
      },
      "source": [
        "li = [1,9,16,56,25,5,9]\n",
        "li.append(29)#add the new item at li\n",
        "#li.insert(2,56)#add the new item\n",
        "li.append(9)\n",
        "li.count(9)#return the value \n",
        "#li.index(56)#return the value"
      ],
      "execution_count": 3,
      "outputs": [
        {
          "output_type": "execute_result",
          "data": {
            "text/plain": [
              "3"
            ]
          },
          "metadata": {
            "tags": []
          },
          "execution_count": 3
        }
      ]
    },
    {
      "cell_type": "code",
      "metadata": {
        "id": "iHcLZw_QPSWT",
        "colab_type": "code",
        "colab": {
          "base_uri": "https://localhost:8080/",
          "height": 34
        },
        "outputId": "abdfffba-67d1-4935-ee27-f24134eaa560"
      },
      "source": [
        "# methodof list object\n",
        "li = [1,9,16,56,25,5,9]\n",
        "li.sort()# sorts that list in ascending order\n",
        "li\n",
        "#i.lpop()#last index value\n",
        "#i.lpop()#remove the items for the specified\n",
        "#li"
      ],
      "execution_count": 4,
      "outputs": [
        {
          "output_type": "execute_result",
          "data": {
            "text/plain": [
              "[1, 5, 9, 9, 16, 25, 56]"
            ]
          },
          "metadata": {
            "tags": []
          },
          "execution_count": 4
        }
      ]
    },
    {
      "cell_type": "code",
      "metadata": {
        "id": "vOkxA-XxQ2fI",
        "colab_type": "code",
        "colab": {
          "base_uri": "https://localhost:8080/",
          "height": 34
        },
        "outputId": "1182a610-7136-4891-cf86-3946bb2979cb"
      },
      "source": [
        "# methodof list object\n",
        "li = [1,9,16,56,25,5,9]\n",
        "#li.sort()# sorts that list in ascending order\n",
        "#li.lpop()#last index value\n",
        "li.pop(1)#remove the items for the specified\n",
        "li"
      ],
      "execution_count": 6,
      "outputs": [
        {
          "output_type": "execute_result",
          "data": {
            "text/plain": [
              "[1, 16, 56, 25, 5, 9]"
            ]
          },
          "metadata": {
            "tags": []
          },
          "execution_count": 6
        }
      ]
    },
    {
      "cell_type": "code",
      "metadata": {
        "id": "aQQHtPXjR6yV",
        "colab_type": "code",
        "colab": {
          "base_uri": "https://localhost:8080/",
          "height": 34
        },
        "outputId": "3d506d47-ed9f-4555-ca27-cbd54ae99e07"
      },
      "source": [
        "li1=[1,6,19,25]\n",
        "li.extend(li1)\n",
        "li\n",
        "# li.reverse()\n",
        "#li.sort()"
      ],
      "execution_count": 7,
      "outputs": [
        {
          "output_type": "execute_result",
          "data": {
            "text/plain": [
              "[1, 16, 56, 25, 5, 9, 1, 6, 19, 25]"
            ]
          },
          "metadata": {
            "tags": []
          },
          "execution_count": 7
        }
      ]
    },
    {
      "cell_type": "code",
      "metadata": {
        "id": "74r0_nuOSk_C",
        "colab_type": "code",
        "colab": {
          "base_uri": "https://localhost:8080/",
          "height": 34
        },
        "outputId": "f0e21d41-f762-469f-8c3e-79ff1ce84bb1"
      },
      "source": [
        "li1=[1,6,19,25]\n",
        "#li.extend(li1)\n",
        "li1.reverse()\n",
        "li1\n",
        "#li.sort()\n",
        "    "
      ],
      "execution_count": 10,
      "outputs": [
        {
          "output_type": "execute_result",
          "data": {
            "text/plain": [
              "[25, 19, 6, 1]"
            ]
          },
          "metadata": {
            "tags": []
          },
          "execution_count": 10
        }
      ]
    },
    {
      "cell_type": "code",
      "metadata": {
        "id": "fNl9qviMTkrh",
        "colab_type": "code",
        "colab": {
          "base_uri": "https://localhost:8080/",
          "height": 51
        },
        "outputId": "4dee3daf-a7fa-4eef-f733-75f62ae0bbbd"
      },
      "source": [
        "def largenumber(li):\n",
        "    li.sort()\n",
        "    return li[-1]\n",
        "def genericlarge(li,n):\n",
        "    li.sort()\n",
        "    return li[-n]\n",
        "li=[19,1,25,6,9,45,22]\n",
        "print(largenumber(li))\n",
        "print(genericlarge(li,3))"
      ],
      "execution_count": 16,
      "outputs": [
        {
          "output_type": "stream",
          "text": [
            "45\n",
            "22\n"
          ],
          "name": "stdout"
        }
      ]
    },
    {
      "cell_type": "code",
      "metadata": {
        "id": "4xS8y7iAVdN5",
        "colab_type": "code",
        "colab": {
          "base_uri": "https://localhost:8080/",
          "height": 51
        },
        "outputId": "90532a91-4fea-4f03-f245-cb5ea3619d35"
      },
      "source": [
        "def smallestnumber(li):\n",
        "    li.sort()\n",
        "    return li[0]\n",
        "def genericsmall(li,n):\n",
        "    li.sort()\n",
        "    return li[n-1]\n",
        "li=[19,1,25,6,9,45,22]\n",
        "print(smallestnumber(li))\n",
        "print(genericlarge(li,3))"
      ],
      "execution_count": 25,
      "outputs": [
        {
          "output_type": "stream",
          "text": [
            "1\n",
            "19\n"
          ],
          "name": "stdout"
        }
      ]
    },
    {
      "cell_type": "code",
      "metadata": {
        "id": "nwCtXRF1a4jv",
        "colab_type": "code",
        "colab": {}
      },
      "source": [
        ""
      ],
      "execution_count": 0,
      "outputs": []
    },
    {
      "cell_type": "markdown",
      "metadata": {
        "id": "6bjk3y6_bYYm",
        "colab_type": "text"
      },
      "source": [
        "###tuples\n",
        "-parenthesis()--->tuple and squarebrackets[]--->list\n",
        "-difference b/w tuples and list\n",
        "   -list are mutuable - can be changed or modified\n",
        "   -used to access and modify,add,deletedata\n",
        "   -tuples are immutuable-cannot be changed\n",
        "   -used to accessdata only"
      ]
    },
    {
      "cell_type": "code",
      "metadata": {
        "id": "LHGfiC1QcTSj",
        "colab_type": "code",
        "colab": {
          "base_uri": "https://localhost:8080/",
          "height": 34
        },
        "outputId": "18f3e1da-f1e3-4ce0-abdf-8e619db881e0"
      },
      "source": [
        "t1=(1,2,3,4,5,6)\n",
        "t1\n",
        "print(type(t1),t1[1:5])"
      ],
      "execution_count": 27,
      "outputs": [
        {
          "output_type": "stream",
          "text": [
            "<class 'tuple'> (2, 3, 4, 5)\n"
          ],
          "name": "stdout"
        }
      ]
    },
    {
      "cell_type": "markdown",
      "metadata": {
        "id": "EDXxIvjgd-Ct",
        "colab_type": "text"
      },
      "source": [
        "###dictionaries\n",
        "1.it works on the concept of set unique data\n",
        "2.keys,values istheunique identifier for the value\n",
        "3.each key is separated from its values with colon(:)\n",
        "4.each key and values is separated by comma(,)\n",
        "5.dictionaries enchanced with curly braces({})"
      ]
    },
    {
      "cell_type": "code",
      "metadata": {
        "id": "eD4cXdf3fUpk",
        "colab_type": "code",
        "colab": {
          "base_uri": "https://localhost:8080/",
          "height": 34
        },
        "outputId": "497cec93-1a50-44aa-8ed8-5eaf85f14114"
      },
      "source": [
        "d1={\"name\":\"gitam\",\"email id\":\"gitam@gmail.com\",\"address\":\"hyderabad\"}\n",
        "d1[\"email id\"]=\"gitampython@gmail.com\" # update the data\n",
        "d1"
      ],
      "execution_count": 31,
      "outputs": [
        {
          "output_type": "execute_result",
          "data": {
            "text/plain": [
              "{'address': 'hyderabad', 'email id': 'gitampython@gmail.com', 'name': 'gitam'}"
            ]
          },
          "metadata": {
            "tags": []
          },
          "execution_count": 31
        }
      ]
    },
    {
      "cell_type": "markdown",
      "metadata": {
        "id": "vfi-hqhvbOt4",
        "colab_type": "text"
      },
      "source": [
        ""
      ]
    },
    {
      "cell_type": "code",
      "metadata": {
        "id": "SWxE5vWBgy-n",
        "colab_type": "code",
        "colab": {
          "base_uri": "https://localhost:8080/",
          "height": 34
        },
        "outputId": "b8373541-ebc8-48e6-f503-02857a131287"
      },
      "source": [
        "d1[\"email id\"]"
      ],
      "execution_count": 32,
      "outputs": [
        {
          "output_type": "execute_result",
          "data": {
            "text/plain": [
              "'gitampython@gmail.com'"
            ]
          },
          "metadata": {
            "tags": []
          },
          "execution_count": 32
        }
      ]
    },
    {
      "cell_type": "code",
      "metadata": {
        "id": "0aKUGPushDxy",
        "colab_type": "code",
        "colab": {
          "base_uri": "https://localhost:8080/",
          "height": 85
        },
        "outputId": "3cda0529-bfc8-4cdf-a01e-709ac9f9a4e0"
      },
      "source": [
        "d1[\"course\"]=\"python\" # adding on entry\n",
        "d1"
      ],
      "execution_count": 33,
      "outputs": [
        {
          "output_type": "execute_result",
          "data": {
            "text/plain": [
              "{'address': 'hyderabad',\n",
              " 'course': 'python',\n",
              " 'email id': 'gitampython@gmail.com',\n",
              " 'name': 'gitam'}"
            ]
          },
          "metadata": {
            "tags": []
          },
          "execution_count": 33
        }
      ]
    },
    {
      "cell_type": "code",
      "metadata": {
        "id": "VKsZ3Zkzie6n",
        "colab_type": "code",
        "colab": {
          "base_uri": "https://localhost:8080/",
          "height": 34
        },
        "outputId": "924d49ef-67b4-4d8b-895e-ec2a5473cc93"
      },
      "source": [
        "del d1[\"email id\"]\n",
        "d1"
      ],
      "execution_count": 34,
      "outputs": [
        {
          "output_type": "execute_result",
          "data": {
            "text/plain": [
              "{'address': 'hyderabad', 'course': 'python', 'name': 'gitam'}"
            ]
          },
          "metadata": {
            "tags": []
          },
          "execution_count": 34
        }
      ]
    },
    {
      "cell_type": "code",
      "metadata": {
        "id": "53tdPjE4imgu",
        "colab_type": "code",
        "colab": {
          "base_uri": "https://localhost:8080/",
          "height": 34
        },
        "outputId": "d7b4c7a5-df18-49d7-ce44-a887e37be638"
      },
      "source": [
        "d1.keys()"
      ],
      "execution_count": 35,
      "outputs": [
        {
          "output_type": "execute_result",
          "data": {
            "text/plain": [
              "dict_keys(['name', 'address', 'course'])"
            ]
          },
          "metadata": {
            "tags": []
          },
          "execution_count": 35
        }
      ]
    },
    {
      "cell_type": "code",
      "metadata": {
        "id": "qw_qYPZPisd4",
        "colab_type": "code",
        "colab": {
          "base_uri": "https://localhost:8080/",
          "height": 34
        },
        "outputId": "43fd9e76-765a-4968-8f6a-48cbf09f02ef"
      },
      "source": [
        "d1.values()"
      ],
      "execution_count": 36,
      "outputs": [
        {
          "output_type": "execute_result",
          "data": {
            "text/plain": [
              "dict_values(['gitam', 'hyderabad', 'python'])"
            ]
          },
          "metadata": {
            "tags": []
          },
          "execution_count": 36
        }
      ]
    },
    {
      "cell_type": "code",
      "metadata": {
        "id": "nHb-CUNRisZ5",
        "colab_type": "code",
        "colab": {
          "base_uri": "https://localhost:8080/",
          "height": 34
        },
        "outputId": "3e6e288b-8bd0-414e-cde1-ecf0b0ecd3db"
      },
      "source": [
        "d1.items()"
      ],
      "execution_count": 37,
      "outputs": [
        {
          "output_type": "execute_result",
          "data": {
            "text/plain": [
              "dict_items([('name', 'gitam'), ('address', 'hyderabad'), ('course', 'python')])"
            ]
          },
          "metadata": {
            "tags": []
          },
          "execution_count": 37
        }
      ]
    },
    {
      "cell_type": "markdown",
      "metadata": {
        "id": "yWk0CgIdjzMe",
        "colab_type": "text"
      },
      "source": [
        "###strings\n",
        "-strings\n",
        "-string slicing\n",
        "-fundamental programming with string in python"
      ]
    },
    {
      "cell_type": "code",
      "metadata": {
        "id": "KOLG8zxckcMW",
        "colab_type": "code",
        "colab": {
          "base_uri": "https://localhost:8080/",
          "height": 51
        },
        "outputId": "388647db-4ad5-4af7-dcb0-8b32031c0309"
      },
      "source": [
        "s1=\"python\"\n",
        "print(s1)\n",
        "print(type(s1))"
      ],
      "execution_count": 38,
      "outputs": [
        {
          "output_type": "stream",
          "text": [
            "python\n",
            "<class 'str'>\n"
          ],
          "name": "stdout"
        }
      ]
    },
    {
      "cell_type": "code",
      "metadata": {
        "id": "Vc_iIE6okoEv",
        "colab_type": "code",
        "colab": {
          "base_uri": "https://localhost:8080/",
          "height": 85
        },
        "outputId": "f8ec1954-f1de-491b-a660-c771b5bb8dfa"
      },
      "source": [
        "s1=\"python\"\n",
        "print(s1[0]) # access the first character\n",
        "print(s1[1]) # access the second character\n",
        "print(s1[5]) #last character\n",
        "print(s1[len(s1)-1]) #access the last character"
      ],
      "execution_count": 40,
      "outputs": [
        {
          "output_type": "stream",
          "text": [
            "p\n",
            "y\n",
            "n\n",
            "n\n"
          ],
          "name": "stdout"
        }
      ]
    },
    {
      "cell_type": "code",
      "metadata": {
        "id": "EQa-p8Qfl0Ke",
        "colab_type": "code",
        "colab": {
          "base_uri": "https://localhost:8080/",
          "height": 119
        },
        "outputId": "9a749093-c965-4b25-dc7d-2a54adcedfa5"
      },
      "source": [
        "print(s1[-1]) # another any access the last character\n",
        "print(s1[-2]) # another way to access the last second character\n",
        "print(s1[0:2]) #access the first character\n",
        "print(s1[:2]) #access the first two character\n",
        "print(s1[-3:]) #access last 3 letters\n",
        "print(s1[2:])# access last 4 letters"
      ],
      "execution_count": 51,
      "outputs": [
        {
          "output_type": "stream",
          "text": [
            "n\n",
            "o\n",
            "py\n",
            "py\n",
            "hon\n",
            "thon\n"
          ],
          "name": "stdout"
        }
      ]
    },
    {
      "cell_type": "code",
      "metadata": {
        "id": "n2HS0haum_Pu",
        "colab_type": "code",
        "colab": {}
      },
      "source": [
        "print(s1[1:-1]) # print all the characters except first and last\n",
        "print(s1[len(s1)//2]) # middle of the string\n",
        "print(s1[-1::-1]) #reverse of string\n",
        "print(s1[-1:-3:-1]) # accesslast 2 characters in reverse order # access alternate characters\n",
        "print(s1[::3]) #access 2 characters\n",
        "print(s1[::2)# 2 characters\n",
        "print(s1[::-2])from reverse order"
      ],
      "execution_count": 0,
      "outputs": []
    },
    {
      "cell_type": "code",
      "metadata": {
        "id": "1zcdm7cdp6wo",
        "colab_type": "code",
        "colab": {
          "base_uri": "https://localhost:8080/",
          "height": 34
        },
        "outputId": "559ec22b-d6af-40e9-8726-a1f1c1db51a3"
      },
      "source": [
        "# reversing a string\n",
        "def reversestring(str):\n",
        "    return str[-1::-1]\n",
        "reversestring(\"programming\")"
      ],
      "execution_count": 55,
      "outputs": [
        {
          "output_type": "execute_result",
          "data": {
            "text/plain": [
              "'gnimmargorp'"
            ]
          },
          "metadata": {
            "tags": []
          },
          "execution_count": 55
        }
      ]
    },
    {
      "cell_type": "code",
      "metadata": {
        "id": "O_wdo1GGqZBl",
        "colab_type": "code",
        "colab": {
          "base_uri": "https://localhost:8080/",
          "height": 51
        },
        "outputId": "607cac95-36ca-4c9b-ea72-8a8e30ab9b7a"
      },
      "source": [
        "# check whether the given string is palindrome or not\n",
        "def ispalindrome(str):\n",
        "    if str ==str[::-1]:\n",
        "      return True\n",
        "    else:\n",
        "      return False\n",
        "      return\n",
        "print(ispalindrome(\"python\"))\n",
        "print(ispalindrome(\"ganag\"))"
      ],
      "execution_count": 57,
      "outputs": [
        {
          "output_type": "stream",
          "text": [
            "False\n",
            "True\n"
          ],
          "name": "stdout"
        }
      ]
    },
    {
      "cell_type": "markdown",
      "metadata": {
        "id": "41YsFFSwriVq",
        "colab_type": "text"
      },
      "source": [
        "## string built-in methods\n",
        "1.upper()--will convert input string into uppercase\n",
        "2.lower()--will convert input string into lower case"
      ]
    },
    {
      "cell_type": "code",
      "metadata": {
        "id": "hyucmY6XsBi6",
        "colab_type": "code",
        "colab": {
          "base_uri": "https://localhost:8080/",
          "height": 51
        },
        "outputId": "a65f1d79-f06b-4a97-b14b-1bc4bd4a6901"
      },
      "source": [
        "s1='python'\n",
        "print(s1.upper())\n",
        "print(s1.lower())"
      ],
      "execution_count": 58,
      "outputs": [
        {
          "output_type": "stream",
          "text": [
            "PYTHON\n",
            "python\n"
          ],
          "name": "stdout"
        }
      ]
    },
    {
      "cell_type": "code",
      "metadata": {
        "id": "AmUJtPKwsTGh",
        "colab_type": "code",
        "colab": {}
      },
      "source": [
        "### string boolean built-in-methods\n",
        "1.upper()\n",
        "2.lower()\n",
        "3.islower()\n",
        "4.isupper()\n",
        "5.istitle()\n",
        "6.isnumeric()\n",
        "7.isalpha()\n",
        "8.isspace()"
      ],
      "execution_count": 0,
      "outputs": []
    },
    {
      "cell_type": "code",
      "metadata": {
        "id": "1hjgakf3uRPd",
        "colab_type": "code",
        "colab": {
          "base_uri": "https://localhost:8080/",
          "height": 153
        },
        "outputId": "386694b9-a891-4d1d-ebda-9a60894a25d9"
      },
      "source": [
        "s1='python'\n",
        "print(s1.upper())\n",
        "print(s1.lower())\n",
        "print(s1.islower())\n",
        "print(s1.isupper())\n",
        "print(s1.istitle())\n",
        "print(s1.isnumeric())\n",
        "print(s1.isalpha())\n",
        "print(s1.isspace())"
      ],
      "execution_count": 60,
      "outputs": [
        {
          "output_type": "stream",
          "text": [
            "PYTHON\n",
            "python\n",
            "True\n",
            "False\n",
            "False\n",
            "False\n",
            "True\n",
            "False\n"
          ],
          "name": "stdout"
        }
      ]
    },
    {
      "cell_type": "code",
      "metadata": {
        "id": "gwx9dO6Wul_q",
        "colab_type": "code",
        "colab": {
          "base_uri": "https://localhost:8080/",
          "height": 34
        },
        "outputId": "58d30361-11cc-4231-fea1-371bd8eebffb"
      },
      "source": [
        "s1=\"  \"\n",
        "print(s1.isspace())"
      ],
      "execution_count": 61,
      "outputs": [
        {
          "output_type": "stream",
          "text": [
            "True\n"
          ],
          "name": "stdout"
        }
      ]
    },
    {
      "cell_type": "markdown",
      "metadata": {
        "id": "IkegitmPvKCJ",
        "colab_type": "text"
      },
      "source": [
        "##string methods\n",
        "-join()\n",
        "--spli()\n",
        "-replace()"
      ]
    },
    {
      "cell_type": "code",
      "metadata": {
        "id": "Kjx-bbzCvWBo",
        "colab_type": "code",
        "colab": {
          "base_uri": "https://localhost:8080/",
          "height": 34
        },
        "outputId": "616dea22-9575-49aa-fc70-c5009fb9711f"
      },
      "source": [
        "s1='Python'\n",
        "print(\" \".join(s1))"
      ],
      "execution_count": 63,
      "outputs": [
        {
          "output_type": "stream",
          "text": [
            "P y t h o n\n"
          ],
          "name": "stdout"
        }
      ]
    },
    {
      "cell_type": "code",
      "metadata": {
        "id": "a3FW2yKLvnvO",
        "colab_type": "code",
        "colab": {
          "base_uri": "https://localhost:8080/",
          "height": 34
        },
        "outputId": "aecc7264-0dc9-49ae-f159-9f2a97092ecd"
      },
      "source": [
        "s2=\"python programming easy to learn\"\n",
        "print(\" ,\".join(s2))"
      ],
      "execution_count": 64,
      "outputs": [
        {
          "output_type": "stream",
          "text": [
            "p ,y ,t ,h ,o ,n ,  ,p ,r ,o ,g ,r ,a ,m ,m ,i ,n ,g ,  ,e ,a ,s ,y ,  ,t ,o ,  ,l ,e ,a ,r ,n\n"
          ],
          "name": "stdout"
        }
      ]
    },
    {
      "cell_type": "code",
      "metadata": {
        "id": "ADlw75Aev69Z",
        "colab_type": "code",
        "colab": {
          "base_uri": "https://localhost:8080/",
          "height": 34
        },
        "outputId": "5cc7ff35-ad85-457f-9386-0bff43a8b7a1"
      },
      "source": [
        "li=['python','programming','learn']\n",
        "print(\" ,\".join(li))"
      ],
      "execution_count": 65,
      "outputs": [
        {
          "output_type": "stream",
          "text": [
            "python ,programming ,learn\n"
          ],
          "name": "stdout"
        }
      ]
    },
    {
      "cell_type": "code",
      "metadata": {
        "id": "SvjLkmN5v676",
        "colab_type": "code",
        "colab": {
          "base_uri": "https://localhost:8080/",
          "height": 34
        },
        "outputId": "dd300322-fe95-4c75-e8de-05ff23d7c5ef"
      },
      "source": [
        "s2=\"python programming easy to learn\"\n",
        "print(s2.split())"
      ],
      "execution_count": 66,
      "outputs": [
        {
          "output_type": "stream",
          "text": [
            "['python', 'programming', 'easy', 'to', 'learn']\n"
          ],
          "name": "stdout"
        }
      ]
    },
    {
      "cell_type": "code",
      "metadata": {
        "id": "69HC1xfFw94s",
        "colab_type": "code",
        "colab": {
          "base_uri": "https://localhost:8080/",
          "height": 34
        },
        "outputId": "ada82ea6-ca89-40b7-de79-0cd39aa983a1"
      },
      "source": [
        "s2=\"python programming easy to learn\"\n",
        "print(s2.split('a'))"
      ],
      "execution_count": 67,
      "outputs": [
        {
          "output_type": "stream",
          "text": [
            "['python progr', 'mming e', 'sy to le', 'rn']\n"
          ],
          "name": "stdout"
        }
      ]
    },
    {
      "cell_type": "code",
      "metadata": {
        "id": "99fq3dfDxREL",
        "colab_type": "code",
        "colab": {
          "base_uri": "https://localhost:8080/",
          "height": 68
        },
        "outputId": "125a0073-d65a-4ab8-afa3-c17b9c947f92"
      },
      "source": [
        "s2=\"python programming easy to learn\"\n",
        "print(len(s2))\n",
        "li=s2.split()#split the string--list object\n",
        "print(li)\n",
        "print(len(li))"
      ],
      "execution_count": 69,
      "outputs": [
        {
          "output_type": "stream",
          "text": [
            "32\n",
            "['python', 'programming', 'easy', 'to', 'learn']\n",
            "5\n"
          ],
          "name": "stdout"
        }
      ]
    },
    {
      "cell_type": "code",
      "metadata": {
        "id": "VtmTnuKzx27M",
        "colab_type": "code",
        "colab": {
          "base_uri": "https://localhost:8080/",
          "height": 34
        },
        "outputId": "d8e6a205-728d-43fe-ce29-5bc2caabc973"
      },
      "source": [
        "s2=\"python programming easy to learn\"\n",
        "li=list(s2)\n",
        "print(li)"
      ],
      "execution_count": 70,
      "outputs": [
        {
          "output_type": "stream",
          "text": [
            "['p', 'y', 't', 'h', 'o', 'n', ' ', 'p', 'r', 'o', 'g', 'r', 'a', 'm', 'm', 'i', 'n', 'g', ' ', 'e', 'a', 's', 'y', ' ', 't', 'o', ' ', 'l', 'e', 'a', 'r', 'n']\n"
          ],
          "name": "stdout"
        }
      ]
    },
    {
      "cell_type": "code",
      "metadata": {
        "id": "in7quvqUyIZR",
        "colab_type": "code",
        "colab": {
          "base_uri": "https://localhost:8080/",
          "height": 34
        },
        "outputId": "e6429777-eae3-47aa-8484-5a59a026c9a3"
      },
      "source": [
        "s2=\"python programming easy to learn\"\n",
        "print(s2.replace(\"gra\",\"application\"))"
      ],
      "execution_count": 71,
      "outputs": [
        {
          "output_type": "stream",
          "text": [
            "python proapplicationmming easy to learn\n"
          ],
          "name": "stdout"
        }
      ]
    }
  ]
}